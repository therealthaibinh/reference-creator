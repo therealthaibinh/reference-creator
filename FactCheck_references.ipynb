{
  "nbformat": 4,
  "nbformat_minor": 0,
  "metadata": {
    "colab": {
      "name": "FactCheck_references.ipynb",
      "provenance": [],
      "include_colab_link": true
    },
    "kernelspec": {
      "name": "python3",
      "display_name": "Python 3"
    },
    "widgets": {
      "application/vnd.jupyter.widget-state+json": {
        "ebc8a35f56d94e60bfaf4d563d6df050": {
          "model_module": "@jupyter-widgets/controls",
          "model_name": "VBoxModel",
          "state": {
            "_view_name": "VBoxView",
            "_dom_classes": [
              "widget-interact"
            ],
            "_model_name": "VBoxModel",
            "_view_module": "@jupyter-widgets/controls",
            "_model_module_version": "1.5.0",
            "_view_count": null,
            "_view_module_version": "1.5.0",
            "box_style": "",
            "layout": "IPY_MODEL_f2ad49648dbe4846b756f1631d69950b",
            "_model_module": "@jupyter-widgets/controls",
            "children": [
              "IPY_MODEL_1ad9f9f0e73e4253b1d69d3d300adf13",
              "IPY_MODEL_91f430f257e94cf5915824904aa9a60d"
            ]
          }
        },
        "f2ad49648dbe4846b756f1631d69950b": {
          "model_module": "@jupyter-widgets/base",
          "model_name": "LayoutModel",
          "state": {
            "_view_name": "LayoutView",
            "grid_template_rows": null,
            "right": null,
            "justify_content": null,
            "_view_module": "@jupyter-widgets/base",
            "overflow": null,
            "_model_module_version": "1.2.0",
            "_view_count": null,
            "flex_flow": null,
            "width": null,
            "min_width": null,
            "border": null,
            "align_items": null,
            "bottom": null,
            "_model_module": "@jupyter-widgets/base",
            "top": null,
            "grid_column": null,
            "overflow_y": null,
            "overflow_x": null,
            "grid_auto_flow": null,
            "grid_area": null,
            "grid_template_columns": null,
            "flex": null,
            "_model_name": "LayoutModel",
            "justify_items": null,
            "grid_row": null,
            "max_height": null,
            "align_content": null,
            "visibility": null,
            "align_self": null,
            "height": null,
            "min_height": null,
            "padding": null,
            "grid_auto_rows": null,
            "grid_gap": null,
            "max_width": null,
            "order": null,
            "_view_module_version": "1.2.0",
            "grid_template_areas": null,
            "object_position": null,
            "object_fit": null,
            "grid_auto_columns": null,
            "margin": null,
            "display": null,
            "left": null
          }
        },
        "1ad9f9f0e73e4253b1d69d3d300adf13": {
          "model_module": "@jupyter-widgets/controls",
          "model_name": "TextareaModel",
          "state": {
            "_view_name": "TextareaView",
            "style": "IPY_MODEL_8285219a21a8488fa9612b6cd414aff7",
            "rows": null,
            "_dom_classes": [],
            "description": "URLs",
            "_model_name": "TextareaModel",
            "placeholder": "Paste URL, one per line (no need for comma in between)",
            "_view_module": "@jupyter-widgets/controls",
            "_model_module_version": "1.5.0",
            "value": "",
            "_view_count": null,
            "disabled": false,
            "_view_module_version": "1.5.0",
            "continuous_update": true,
            "description_tooltip": null,
            "_model_module": "@jupyter-widgets/controls",
            "layout": "IPY_MODEL_19f7b38951c34e5d9275e0ccca6b4467"
          }
        },
        "91f430f257e94cf5915824904aa9a60d": {
          "model_module": "@jupyter-widgets/output",
          "model_name": "OutputModel",
          "state": {
            "_view_name": "OutputView",
            "msg_id": "",
            "_dom_classes": [],
            "_model_name": "OutputModel",
            "outputs": [
              {
                "output_type": "stream",
                "metadata": {
                  "tags": []
                },
                "text": "Misformatted URL or maybe some other funky error\n",
                "stream": "stdout"
              }
            ],
            "_view_module": "@jupyter-widgets/output",
            "_model_module_version": "1.0.0",
            "_view_count": null,
            "_view_module_version": "1.0.0",
            "layout": "IPY_MODEL_4b0065ca8f7e4bbe9bce5f28af75cd72",
            "_model_module": "@jupyter-widgets/output"
          }
        },
        "8285219a21a8488fa9612b6cd414aff7": {
          "model_module": "@jupyter-widgets/controls",
          "model_name": "DescriptionStyleModel",
          "state": {
            "_view_name": "StyleView",
            "_model_name": "DescriptionStyleModel",
            "description_width": "",
            "_view_module": "@jupyter-widgets/base",
            "_model_module_version": "1.5.0",
            "_view_count": null,
            "_view_module_version": "1.2.0",
            "_model_module": "@jupyter-widgets/controls"
          }
        },
        "19f7b38951c34e5d9275e0ccca6b4467": {
          "model_module": "@jupyter-widgets/base",
          "model_name": "LayoutModel",
          "state": {
            "_view_name": "LayoutView",
            "grid_template_rows": null,
            "right": null,
            "justify_content": null,
            "_view_module": "@jupyter-widgets/base",
            "overflow": null,
            "_model_module_version": "1.2.0",
            "_view_count": null,
            "flex_flow": null,
            "width": "80%",
            "min_width": null,
            "border": null,
            "align_items": null,
            "bottom": null,
            "_model_module": "@jupyter-widgets/base",
            "top": null,
            "grid_column": null,
            "overflow_y": null,
            "overflow_x": null,
            "grid_auto_flow": null,
            "grid_area": null,
            "grid_template_columns": null,
            "flex": null,
            "_model_name": "LayoutModel",
            "justify_items": null,
            "grid_row": null,
            "max_height": null,
            "align_content": null,
            "visibility": null,
            "align_self": null,
            "height": "100px",
            "min_height": null,
            "padding": null,
            "grid_auto_rows": null,
            "grid_gap": null,
            "max_width": null,
            "order": null,
            "_view_module_version": "1.2.0",
            "grid_template_areas": null,
            "object_position": null,
            "object_fit": null,
            "grid_auto_columns": null,
            "margin": null,
            "display": null,
            "left": null
          }
        },
        "4b0065ca8f7e4bbe9bce5f28af75cd72": {
          "model_module": "@jupyter-widgets/base",
          "model_name": "LayoutModel",
          "state": {
            "_view_name": "LayoutView",
            "grid_template_rows": null,
            "right": null,
            "justify_content": null,
            "_view_module": "@jupyter-widgets/base",
            "overflow": null,
            "_model_module_version": "1.2.0",
            "_view_count": null,
            "flex_flow": null,
            "width": null,
            "min_width": null,
            "border": null,
            "align_items": null,
            "bottom": null,
            "_model_module": "@jupyter-widgets/base",
            "top": null,
            "grid_column": null,
            "overflow_y": null,
            "overflow_x": null,
            "grid_auto_flow": null,
            "grid_area": null,
            "grid_template_columns": null,
            "flex": null,
            "_model_name": "LayoutModel",
            "justify_items": null,
            "grid_row": null,
            "max_height": null,
            "align_content": null,
            "visibility": null,
            "align_self": null,
            "height": null,
            "min_height": null,
            "padding": null,
            "grid_auto_rows": null,
            "grid_gap": null,
            "max_width": null,
            "order": null,
            "_view_module_version": "1.2.0",
            "grid_template_areas": null,
            "object_position": null,
            "object_fit": null,
            "grid_auto_columns": null,
            "margin": null,
            "display": null,
            "left": null
          }
        }
      }
    }
  },
  "cells": [
    {
      "cell_type": "markdown",
      "metadata": {
        "id": "view-in-github",
        "colab_type": "text"
      },
      "source": [
        "<a href=\"https://colab.research.google.com/github/therealthaibinh/reference-creator/blob/master/FactCheck_references.ipynb\" target=\"_parent\"><img src=\"https://colab.research.google.com/assets/colab-badge.svg\" alt=\"Open In Colab\"/></a>"
      ]
    },
    {
      "cell_type": "markdown",
      "metadata": {
        "id": "_uAebY8gTm_M",
        "colab_type": "text"
      },
      "source": [
        "# Run this cell"
      ]
    },
    {
      "cell_type": "code",
      "metadata": {
        "id": "6EeqbiqiTIyJ",
        "colab_type": "code",
        "colab": {
          "base_uri": "https://localhost:8080/",
          "height": 138,
          "referenced_widgets": [
            "ebc8a35f56d94e60bfaf4d563d6df050",
            "f2ad49648dbe4846b756f1631d69950b",
            "1ad9f9f0e73e4253b1d69d3d300adf13",
            "91f430f257e94cf5915824904aa9a60d",
            "8285219a21a8488fa9612b6cd414aff7",
            "19f7b38951c34e5d9275e0ccca6b4467",
            "4b0065ca8f7e4bbe9bce5f28af75cd72"
          ]
        },
        "outputId": "43449b6f-7f7e-4682-919e-7d58a8733922"
      },
      "source": [
        "from IPython.core.display import display, HTML\n",
        "import ipywidgets as widgets\n",
        "# from ipywidgets import interact, interactive, fixed, interact_manual, Layout\n",
        "from ipywidgets import interact, Layout\n",
        "\n",
        "\n",
        "from datetime import datetime\n",
        "\n",
        "try:\n",
        "    import requests\n",
        "except:\n",
        "    !pip install requests\n",
        "    import requests\n",
        "    \n",
        "try:\n",
        "    from bs4 import BeautifulSoup\n",
        "except:\n",
        "    !pip install beautifulsoup4\n",
        "    from bs4 import BeautifulSoup\n",
        "\n",
        "def create_factcheck_ref(url):\n",
        "    page = BeautifulSoup(requests.get(url).content, 'html.parser')\n",
        "\n",
        "    # Author\n",
        "    lstAuthors = []\n",
        "    for strAuthor in page.findAll(attrs={'class' : 'author url fn'}):\n",
        "        lstAuthors.append(strAuthor.contents[0])\n",
        "    if len(lstAuthors)==1:\n",
        "        strFirstAuthor = lstAuthors[0]\n",
        "        strAuthor = strFirstAuthor[strFirstAuthor.find(' ')+1:] + ', ' + strFirstAuthor[:strFirstAuthor.find(' ')]\n",
        "    elif len(lstAuthors)==2:\n",
        "        strFirstAuthor = lstAuthors[0]\n",
        "        strSecondAuthor = lstAuthors[1]\n",
        "        strAuthor = strFirstAuthor[strFirstAuthor.find(' ')+1:] + ', ' + strFirstAuthor[:strFirstAuthor.find(' ')] + ' and ' +\\\n",
        "                    strSecondAuthor[strSecondAuthor.find(' ')+1:] + ', ' + strSecondAuthor[:strSecondAuthor.find(' ')]\n",
        "    else:\n",
        "        strFirstAuthor = lstAuthors[0]\n",
        "        strAuthor = strFirstAuthor[strFirstAuthor.find(' ')+1:] + ', ' + strFirstAuthor[:strFirstAuthor.find(' ')] + ' et. al'\n",
        "\n",
        "    # Title\n",
        "    strTitle = page.find(attrs={'class' : 'entry-title'}).contents[0]\n",
        "    link_tagged = \"<a href='{href}'>\"+strTitle+\"</a>\"\n",
        "\n",
        "    # Date\n",
        "    strDate = page.find(attrs={'class' : 'entry-date published updated'}).contents[0]\n",
        "    strDate = datetime.strptime(strDate, '%B %d, %Y').strftime(\"%-d %b %Y\")\n",
        "    \n",
        "    return {'AUTHOR':strAuthor, 'TITLE':strTitle, 'DATE':strDate}\n",
        "\n",
        "def f(strURLs):\n",
        "    lstURL = strURLs.split('\\n')\n",
        "    for url in lstURL:\n",
        "        try:\n",
        "            dict_extract = create_factcheck_ref(url)\n",
        "            link_tagged = \"<a href='{href}'>\"+dict_extract['TITLE']+\"</a>\"\n",
        "            full_tagged = dict_extract['AUTHOR'] +'. \"' +\\\n",
        "                            link_tagged + '.\" FactCheck.org. ' +\\\n",
        "                            dict_extract['DATE'] + '.'\n",
        "            html = HTML(full_tagged.format(href=url))\n",
        "            display(html)\n",
        "\n",
        "        except:\n",
        "            print(\"Misformatted URL or maybe some other funky error\")\n",
        "\n",
        "\n",
        "widget_URL = widgets.Textarea(\n",
        "    value='',\n",
        "    placeholder='Paste URL, one per line (no need for comma in between)',\n",
        "    description='URLs',\n",
        "    disabled=False,\n",
        "    layout=Layout(width='80%', height='100px')\n",
        ")\n",
        "\n",
        "interactive_plot = interact(f, strURLs=widget_URL)\n",
        "\n"
      ],
      "execution_count": 5,
      "outputs": [
        {
          "output_type": "display_data",
          "data": {
            "application/vnd.jupyter.widget-view+json": {
              "model_id": "ebc8a35f56d94e60bfaf4d563d6df050",
              "version_minor": 0,
              "version_major": 2
            },
            "text/plain": [
              "interactive(children=(Textarea(value='', description='URLs', layout=Layout(height='100px', width='80%'), place…"
            ]
          },
          "metadata": {
            "tags": []
          }
        }
      ]
    },
    {
      "cell_type": "code",
      "metadata": {
        "id": "QO1kvsChP-9g",
        "colab_type": "code",
        "colab": {}
      },
      "source": [
        ""
      ],
      "execution_count": null,
      "outputs": []
    }
  ]
}