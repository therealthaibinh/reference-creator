{
  "nbformat": 4,
  "nbformat_minor": 0,
  "metadata": {
    "colab": {
      "name": "FactCheck_references.ipynb",
      "provenance": [],
      "include_colab_link": true
    },
    "kernelspec": {
      "name": "python3",
      "display_name": "Python 3"
    }
  },
  "cells": [
    {
      "cell_type": "markdown",
      "metadata": {
        "id": "view-in-github",
        "colab_type": "text"
      },
      "source": [
        "<a href=\"https://colab.research.google.com/github/therealthaibinh/reference-creator/blob/master/FactCheck_references.ipynb\" target=\"_parent\"><img src=\"https://colab.research.google.com/assets/colab-badge.svg\" alt=\"Open In Colab\"/></a>"
      ]
    },
    {
      "cell_type": "markdown",
      "metadata": {
        "id": "_uAebY8gTm_M",
        "colab_type": "text"
      },
      "source": [
        "# Run this cell once at the beginning when you open up this notebook:"
      ]
    },
    {
      "cell_type": "code",
      "metadata": {
        "id": "6EeqbiqiTIyJ",
        "colab_type": "code",
        "colab": {}
      },
      "source": [
        "from IPython.core.display import display, HTML\n",
        "\n",
        "from datetime import datetime\n",
        "\n",
        "try:\n",
        "    import requests\n",
        "except:\n",
        "    !pip install requests\n",
        "    import requests\n",
        "    \n",
        "try:\n",
        "    from bs4 import BeautifulSoup\n",
        "except:\n",
        "    !pip install beautifulsoup4\n",
        "    from bs4 import BeautifulSoup"
      ],
      "execution_count": null,
      "outputs": []
    },
    {
      "cell_type": "markdown",
      "metadata": {
        "id": "7EFL-5UfTvP9",
        "colab_type": "text"
      },
      "source": [
        "# **Change the URL here, then run the cell:**\n",
        "- Remember that the URL needs to be inside double-quotes\n"
      ]
    },
    {
      "cell_type": "code",
      "metadata": {
        "id": "0r4fgITUTzP9",
        "colab_type": "code",
        "colab": {}
      },
      "source": [
        "lsturl_sub = [\"https://www.factcheck.org/2020/08/republican-convention-night-3/\", \n",
        "              \"https://www.factcheck.org/2020/08/final-night-of-the-republican-convention/\"]"
      ],
      "execution_count": null,
      "outputs": []
    },
    {
      "cell_type": "markdown",
      "metadata": {
        "id": "NFkx7PfmT31n",
        "colab_type": "text"
      },
      "source": [
        "# Run this cell whenever you change the URL:"
      ]
    },
    {
      "cell_type": "code",
      "metadata": {
        "id": "KXMK4_N7TSr2",
        "colab_type": "code",
        "colab": {
          "base_uri": "https://localhost:8080/",
          "height": 51
        },
        "outputId": "b3bd1205-79cf-46b1-9536-2c93d7c7751a"
      },
      "source": [
        "for url_sub in lsturl_sub:\n",
        "  page_sub = BeautifulSoup(requests.get(url_sub).content, 'html.parser')\n",
        "\n",
        "  # Author\n",
        "  lstAuthors = []\n",
        "  for strAuthor in page_sub.findAll(attrs={'class' : 'author url fn'}):\n",
        "      lstAuthors.append(strAuthor.contents[0])\n",
        "  if len(lstAuthors)==1:\n",
        "      strFirstAuthor = lstAuthors[0]\n",
        "      strAuthor = strFirstAuthor[strFirstAuthor.find(' ')+1:] + ', ' + strFirstAuthor[:strFirstAuthor.find(' ')]\n",
        "  elif len(lstAuthors)==2:\n",
        "      strFirstAuthor = lstAuthors[0]\n",
        "      strSecondAuthor = lstAuthors[1]\n",
        "      strAuthor = strFirstAuthor[strFirstAuthor.find(' ')+1:] + ', ' + strFirstAuthor[:strFirstAuthor.find(' ')] + ' and ' +\\\n",
        "                  strSecondAuthor[strSecondAuthor.find(' ')+1:] + ', ' + strSecondAuthor[:strSecondAuthor.find(' ')]\n",
        "  else:\n",
        "      strFirstAuthor = lstAuthors[0]\n",
        "      strAuthor = strFirstAuthor[strFirstAuthor.find(' ')+1:] + ', ' + strFirstAuthor[:strFirstAuthor.find(' ')] + ' et. al'\n",
        "      \n",
        "  # Title\n",
        "  strTitle = page_sub.find(attrs={'class' : 'entry-title'}).contents[0]\n",
        "  # strTitle_tagged = \n",
        "\n",
        "  # Date\n",
        "  strDate = page_sub.find(attrs={'class' : 'entry-date published updated'}).contents[0]\n",
        "  strDate = datetime.strptime(strDate, '%B %d, %Y').strftime(\"%-d %b %Y\")\n",
        "\n",
        "  # Put it all together\n",
        "  strFCReference = '{AUTHOR}. \"{TITLE}.\" FactCheck.org. {DATE}.'\n",
        "\n",
        "  # # Plain text with no hyperlinks or nothin'\n",
        "  # print(strFCReference.format(AUTHOR = strAuthor,\n",
        "  #                             TITLE = strTitle,\n",
        "  #                             DATE = strDate))\n",
        "  # print()\n",
        "\n",
        "  # Reference with embedded hyperlink\n",
        "  strReference_tagged = strFCReference.format(AUTHOR = strAuthor,\n",
        "                                              TITLE = \"<a href='{href}'>\"+strTitle+\"</a>\",\n",
        "                                              DATE = strDate)\n",
        "  display(HTML(strReference_tagged.format(href=url_sub)))\n",
        "  # print()\n",
        "\n",
        "  # # Reference with HTML hyperlink tags\n",
        "  # print(strReference_tagged.format(href=url_sub))\n"
      ],
      "execution_count": null,
      "outputs": [
        {
          "output_type": "display_data",
          "data": {
            "text/html": [
              "Jackson, Brooks et. al. \"<a href='https://www.factcheck.org/2020/08/republican-convention-night-3/'>Republican Convention Night 3</a>.\" FactCheck.org. 27 Aug 2020."
            ],
            "text/plain": [
              "<IPython.core.display.HTML object>"
            ]
          },
          "metadata": {
            "tags": []
          }
        },
        {
          "output_type": "display_data",
          "data": {
            "text/html": [
              "Jackson, Brooks et. al. \"<a href='https://www.factcheck.org/2020/08/final-night-of-the-republican-convention/'>Final Night of the Republican Convention</a>.\" FactCheck.org. 28 Aug 2020."
            ],
            "text/plain": [
              "<IPython.core.display.HTML object>"
            ]
          },
          "metadata": {
            "tags": []
          }
        }
      ]
    },
    {
      "cell_type": "code",
      "metadata": {
        "id": "pF-o7r3OXHhT",
        "colab_type": "code",
        "colab": {}
      },
      "source": [
        ""
      ],
      "execution_count": null,
      "outputs": []
    }
  ]
}